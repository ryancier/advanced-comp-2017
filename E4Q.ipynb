{
 "cells": [
  {
   "cell_type": "markdown",
   "metadata": {},
   "source": [
    "E4Q"
   ]
  },
  {
   "cell_type": "markdown",
   "metadata": {},
   "source": [
    "Situation observed in excersise 4 is a result of wrong selection of validation data set. Despite the data is random, the validation dataset is biased towords better performance as its elements are not selected randomly. To have a more realistic estimate of performance, one creates a validation dataset as a random subset of input data istead of SelectKBest function. If the realistic perfomance should be close to 50% which one expects to observe on random, that would indicate that problem is fixed."
   ]
  }
 ],
 "metadata": {
  "kernelspec": {
   "display_name": "Python 3",
   "language": "python",
   "name": "python3"
  },
  "language_info": {
   "codemirror_mode": {
    "name": "ipython",
    "version": 3
   },
   "file_extension": ".py",
   "mimetype": "text/x-python",
   "name": "python",
   "nbconvert_exporter": "python",
   "pygments_lexer": "ipython3",
   "version": "3.6.0"
  }
 },
 "nbformat": 4,
 "nbformat_minor": 2
}
